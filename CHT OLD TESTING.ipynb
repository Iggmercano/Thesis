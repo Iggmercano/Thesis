{
 "cells": [
  {
   "cell_type": "markdown",
   "id": "c9e94db1",
   "metadata": {},
   "source": [
    "# Imports"
   ]
  },
  {
   "cell_type": "code",
   "execution_count": 1,
   "id": "030a4d3f",
   "metadata": {},
   "outputs": [],
   "source": [
    "import json\n",
    "import glob\n",
    "import os\n",
    "import pandas as pd\n",
    "import math\n",
    "\n",
    "import cv2\n",
    "import numpy as np\n",
    "from matplotlib import pyplot as plt"
   ]
  },
  {
   "cell_type": "markdown",
   "id": "9f1b9732",
   "metadata": {},
   "source": [
    "# Getting the file paths of json file"
   ]
  },
  {
   "cell_type": "code",
   "execution_count": 2,
   "id": "7dad0d80",
   "metadata": {},
   "outputs": [],
   "source": [
    "def get_files(path):\n",
    "    all_files = []\n",
    "    for root, dirs, files in os.walk(path):\n",
    "        files = glob.glob(os.path.join(root, '*.json'))\n",
    "        for f in files:\n",
    "            all_files.append(os.path.abspath(f))\n",
    "    return all_files"
   ]
  },
  {
   "cell_type": "markdown",
   "id": "1278f49b",
   "metadata": {},
   "source": [
    "# Resize the Image"
   ]
  },
  {
   "cell_type": "code",
   "execution_count": 3,
   "id": "d1b4334b",
   "metadata": {},
   "outputs": [],
   "source": [
    "def resizeImage(img):\n",
    "    CONST_HEIGHT = 1000\n",
    "    return cv2.resize(img, (int(img.shape[1]/4), int(img.shape[0]/4)))"
   ]
  },
  {
   "cell_type": "markdown",
   "id": "ce5e5072",
   "metadata": {
    "tags": []
   },
   "source": [
    "# Convert the Image to Grayscale\n",
    "The blue channel is used instead of getting the average intensities of each channel because of the fact that difference in intensities between the colonies and the dish itself is more apparent in this channel. "
   ]
  },
  {
   "cell_type": "code",
   "execution_count": 4,
   "id": "83f26baa",
   "metadata": {},
   "outputs": [],
   "source": [
    "def getBlueChannel(img):\n",
    "    (B, G, R) = cv2.split(img)\n",
    "    \n",
    "    if (DEBUGGING):\n",
    "        plt.subplots(figsize = (10, 10))\n",
    "        plt.title(\"Grayscale Image (Blue Channel)\")\n",
    "        plt.imshow(B, cmap = plt.cm.gray)\n",
    "        plt.show()\n",
    "    \n",
    "    return B"
   ]
  },
  {
   "cell_type": "markdown",
   "id": "d873312b",
   "metadata": {},
   "source": [
    "# Automatic Petri Dish Bounds Detection"
   ]
  },
  {
   "cell_type": "code",
   "execution_count": 5,
   "id": "12f48a85",
   "metadata": {},
   "outputs": [],
   "source": [
    "def detectPetriDish(file_name):\n",
    "    \n",
    "    f = open(\"bounds.json\")\n",
    "    \n",
    "    data = json.load(f)\n",
    "    \n",
    "    bounds = data['bounds']\n",
    "    \n",
    "    for d in bounds:\n",
    "        if (d['file_name'] == os.path.splitext(os.path.basename(file_name))[0]):\n",
    "            return int(d['h']), int(d['k']), int(d['r'])\n",
    "    \n",
    "    return -1, -1, -1"
   ]
  },
  {
   "cell_type": "markdown",
   "id": "ba62f607",
   "metadata": {},
   "source": [
    "# Adaptive Thresholding"
   ]
  },
  {
   "cell_type": "code",
   "execution_count": 6,
   "id": "591719b1",
   "metadata": {},
   "outputs": [],
   "source": [
    "def binarize(img):\n",
    "    img_bin = cv2.adaptiveThreshold(img, 255, cv2.ADAPTIVE_THRESH_MEAN_C, cv2.THRESH_BINARY, 51, 31)\n",
    "    \n",
    "    if (DEBUGGING):\n",
    "            plt.subplots(figsize = (10, 10))\n",
    "            plt.title(\"Binarized Image\")\n",
    "            plt.imshow(img_bin, cmap = plt.cm.gray)\n",
    "            plt.show()\n",
    "    \n",
    "    return img_bin"
   ]
  },
  {
   "cell_type": "markdown",
   "id": "baa266cb",
   "metadata": {},
   "source": [
    "# Morphological Processing"
   ]
  },
  {
   "cell_type": "code",
   "execution_count": 7,
   "id": "e2dbae7e",
   "metadata": {},
   "outputs": [],
   "source": [
    "def removeNoise(img):\n",
    "    from skimage.morphology import erosion, dilation, disk\n",
    "    from skimage.filters import median\n",
    "    \n",
    "    img_denoised = dilation(img, disk(2))\n",
    "    img_denoised = erosion(img_denoised, disk(3))\n",
    "    \n",
    "    if (DEBUGGING):\n",
    "            plt.subplots(figsize = (10, 10))\n",
    "            plt.title(\"Denoised Image\")\n",
    "            plt.imshow(img_denoised, cmap = plt.cm.gray)\n",
    "            plt.show()\n",
    "    \n",
    "    return img_denoised"
   ]
  },
  {
   "cell_type": "markdown",
   "id": "49c7d6f9",
   "metadata": {},
   "source": [
    "# Circular Hough Transform"
   ]
  },
  {
   "cell_type": "code",
   "execution_count": 8,
   "id": "7b05695e",
   "metadata": {},
   "outputs": [],
   "source": [
    "def detectCircles(img_bin, img_gray, h, k, r, file_name, sensitivity, nhood, upperthresh, accumulator, min_radius, max_radius):\n",
    "    \n",
    "    from skimage.color import gray2rgb\n",
    "    img_color = gray2rgb(img_bin)\n",
    "    \n",
    "    # Find circles in the image with Hough Circle Transform\n",
    "    circles = cv2.HoughCircles(img_bin, cv2.HOUGH_GRADIENT, sensitivity+1, nhood+1, param1=upperthresh+1,\n",
    "                                param2=accumulator+1, minRadius=min_radius+1, maxRadius=max_radius+1)\n",
    "    \n",
    "    try:\n",
    "        return countCircles(img_color, file_name, circles[0,:], h, k, r)\n",
    "    except:\n",
    "        return countCircles(img_color, file_name, [], h, k, r)\n",
    "            \n",
    "def countCircles(img, file_name, circles, h, k, r):\n",
    "    \n",
    "    f = open(f\"Sample Set/{os.path.splitext(os.path.basename(file_name))[0]}.json\")\n",
    "    data = json.load(f)\n",
    "    \n",
    "    img_show = img.copy()\n",
    "    \n",
    "    # Select what to detect\n",
    "    DETECT = \"OPAQUE\"\n",
    "    \n",
    "    actual_count = 0\n",
    "    counted = 0\n",
    "    tp = 0\n",
    "    fp = 0\n",
    "    fn = 0\n",
    "    \n",
    "    size_threshold = 60\n",
    "    \n",
    "    # Count actual colonies, whether OPAQUE or TRANSLUCENT depending on setting\n",
    "    for colony in data['labels']:\n",
    "        if colony['height'] < size_threshold and DETECT == \"OPAQUE\":\n",
    "            actual_count +=1 \n",
    "        elif colony['height'] >= size_threshold and DETECT == \"TRANSLUCENT\":\n",
    "            actual_count +=1 \n",
    "    \n",
    "    # Get the coordinates and size of each colony from the dataset and compare with the colonies found by this algorithm\n",
    "    print(\"\") if False else None\n",
    "    \n",
    "    has_match = []\n",
    "    for circle in circles:\n",
    "        \n",
    "        # Do not count this circle if it is outside of the petri dish\n",
    "        if ((circle[1] - h)**2 + (circle[0] - k)**2 < r**2):\n",
    "            counted += 1\n",
    "        else:\n",
    "            # print(\"SKIPPED\")\n",
    "            continue\n",
    "        \n",
    "        # print(\"ADD FOUND\")\n",
    "        for colony in data['labels']:\n",
    "            # OPAQUE < 60, TRANSPARENT > 60\n",
    "            if colony['height'] >= size_threshold and DETECT == \"OPAQUE\":\n",
    "                continue\n",
    "            elif colony['height'] < size_threshold and DETECT == \"TRANSLUCENT\":\n",
    "                continue\n",
    "            \n",
    "            colony_id = colony['id']\n",
    "            radius = int(colony['height']/2)\n",
    "            x = (colony['x'] + radius)\n",
    "            y = colony['y'] + radius\n",
    "            \n",
    "            # Remap coordinates based on resizing factor\n",
    "            radius /= 4\n",
    "            x /= 4\n",
    "            y /= 4\n",
    "            \n",
    "            # If the center of the detected colony is within max % of the radius of the actual colony, \n",
    "            # and the radius of the colony is within min % error of the actual radius, \n",
    "            # and there is no match for that colony yet, that is a TRUE POSITIVE\n",
    "            \n",
    "            MAX_RADIUS_DIST = radius*0.5\n",
    "            MIN_RADIUS_ERROR = 0.66\n",
    "            \n",
    "            cv2.circle(img_show, (int(circle[0]), int(circle[1])), int(circle[2]), (0, 0, 255), 2)\n",
    "            if ((circle[0] - x)**2 + (circle[1] - y)**2 < MAX_RADIUS_DIST**2):\n",
    "                fr1 = \"{:.2f}\".format(radius)\n",
    "                fr2 = \"{:.2f}\".format(circle[2])\n",
    "                err = \"{:.2f}\".format(radius - circle[2]/circle[2])\n",
    "                print (f\" DIST MATCH, R1({fr1}) R2({fr2}) ERR({err})\", end = \"\")  if False else None\n",
    "                # if (abs((radius - circle[2])/circle[2]) < MIN_RADIUS_ERROR):\n",
    "                if (True):\n",
    "                    print (\" SIZE MATCH\", end = \"\") if False else None\n",
    "                    if colony_id not in has_match:\n",
    "                        has_match.append(colony_id)\n",
    "                        print(f\" ({x}, {y}, {radius}) MATCH\", end = \"\")  if False else None\n",
    "                        cv2.circle(img_show, (int(circle[0]), int(circle[1])), int(circle[2]), (0, 255, 0), 2)\n",
    "                        break\n",
    "                   # else:\n",
    "                         # print(f\"{x}({circle[0]}), {y}({circle[1]}), {radius}({circle[2]}) DUPLICATE\")\n",
    "    \n",
    "    # plt.subplots(figsize = (50, 50))\n",
    "    # plt.title(\"Image\")\n",
    "    # plt.imshow(img_show)\n",
    "    # plt.show()\n",
    "    \n",
    "    tp = len(has_match)\n",
    "    \n",
    "    # FALSE POSITIVE = COUNTED - TRUE POSITIVE\n",
    "    # FALSE NEGATIVE = ACTUAL - COUNTED\n",
    "    fp = counted - tp\n",
    "    \n",
    "    if actual_count < counted:\n",
    "        fn = 0\n",
    "    else:\n",
    "        fn = actual_count - counted\n",
    "    \n",
    "    if (True):\n",
    "        try:\n",
    "            precision = tp/(tp+fp)\n",
    "            prec = \"{:.2%}\".format(precision)\n",
    "        except:\n",
    "            prec = \"0.00%\"\n",
    "            \n",
    "        try:  \n",
    "            recall = tp/(tp+fn)\n",
    "            rec = \"{:.2%}\".format(recall)\n",
    "        except:\n",
    "            recall = \"0.00%\"\n",
    "        \n",
    "        try:\n",
    "            fscore = (2*precision*recall)/(precision+recall)\n",
    "            f1 = \"{:.2%}\".format(fscore)\n",
    "        except:\n",
    "            f1 = \"0.00%\"\n",
    "        \n",
    "        # ID, F, P, R, ACTUAL, COUNTED, TP, FP, FN\n",
    "        print(f\"{file_name}, {str(f1)}, {str(prec)}, {str(rec)}, {actual_count}, {counted}, {tp}, {fp}, {fn}\")\n",
    "        cv2.imwrite(f\"OPTIMIZED PARAMETER RESULTS/CHT OLD {DETECT}/\" + file_name, img_show)\n",
    "    \n",
    "    return actual_count, counted, tp, fp, fn\n"
   ]
  },
  {
   "cell_type": "markdown",
   "id": "82284734",
   "metadata": {},
   "source": [
    "# Complete Detection Function"
   ]
  },
  {
   "cell_type": "code",
   "execution_count": 9,
   "id": "c7758a84",
   "metadata": {},
   "outputs": [],
   "source": [
    "def countColonies(path, file_name, sensitivity, nhood, upperthresh, accumulator, min_radius, max_radius):\n",
    "    img_orig = cv2.imread(path)\n",
    "    img_resized = resizeImage(img_orig)\n",
    "    img_gray = getBlueChannel(img_resized)\n",
    "    h, k, r = detectPetriDish(file_name) \n",
    "    img_binary = binarize(img_gray)\n",
    "    img_binary = removeNoise(img_binary)\n",
    "        \n",
    "    return detectCircles(img_binary, img_gray, h, k, r, file_name, sensitivity, nhood, upperthresh, accumulator, min_radius, max_radius)"
   ]
  },
  {
   "cell_type": "markdown",
   "id": "d2d8e175",
   "metadata": {},
   "source": [
    "# Main Program"
   ]
  },
  {
   "cell_type": "code",
   "execution_count": 10,
   "id": "10b415d3",
   "metadata": {},
   "outputs": [],
   "source": [
    "folder = 'Sample Set'\n",
    "\n",
    "dir = os.path.dirname(\"__file__\")\n",
    "json_file = get_files(os.path.join(dir, folder))"
   ]
  },
  {
   "cell_type": "code",
   "execution_count": 11,
   "id": "388489a2",
   "metadata": {},
   "outputs": [],
   "source": [
    "cleaned_data = []\n",
    "for i in json_file:\n",
    "    with open(i, \"r\") as f:\n",
    "        data = json.load(f)\n",
    "        if (data['background'] == 'vague'):\n",
    "            # print('Background: ' + data['background'])\n",
    "            # print('Filename: ' + json_file)\n",
    "            cleaned_data.append(i)"
   ]
  },
  {
   "cell_type": "code",
   "execution_count": 12,
   "id": "76c886ec",
   "metadata": {
    "scrolled": false
   },
   "outputs": [
    {
     "name": "stdout",
     "output_type": "stream",
     "text": [
      "12442.jpg, 91.67%, 89.19%, 94.29%, 39, 37, 33, 4, 2\n",
      "12444.jpg, 43.90%, 90.00%, 29.03%, 32, 10, 9, 1, 22\n",
      "12452.jpg, 78.57%, 91.67%, 68.75%, 17, 12, 11, 1, 5\n",
      "12454.jpg, 84.21%, 72.73%, 100.00%, 10, 11, 8, 3, 0\n",
      "12455.jpg, 90.48%, 86.36%, 95.00%, 23, 22, 19, 3, 1\n",
      "12456.jpg, 40.00%, 25.00%, 100.00%, 6, 20, 5, 15, 0\n",
      "12457.jpg, 55.00%, 100.00%, 37.93%, 29, 11, 11, 0, 18\n",
      "12460.jpg, 73.68%, 63.64%, 87.50%, 12, 11, 7, 4, 1\n",
      "12461.jpg, 66.67%, 71.43%, 62.50%, 10, 7, 5, 2, 3\n",
      "12463.jpg, 60.00%, 42.86%, 100.00%, 21, 28, 12, 16, 0\n",
      "12465.jpg, 50.00%, 45.83%, 55.00%, 33, 24, 11, 13, 9\n",
      "12466.jpg, 77.27%, 77.27%, 77.27%, 27, 22, 17, 5, 5\n",
      "12470.jpg, 62.50%, 100.00%, 45.45%, 22, 10, 10, 0, 12\n",
      "12471.jpg, 0.00%, 0.00%, 0.00%, 29, 2, 0, 2, 27\n",
      "12475.jpg, 57.47%, 60.98%, 54.35%, 62, 41, 25, 16, 21\n",
      "12476.jpg, 79.17%, 65.52%, 100.00%, 24, 29, 19, 10, 0\n",
      "12478.jpg, 69.23%, 75.00%, 64.29%, 17, 12, 9, 3, 5\n",
      "12479.jpg, 97.73%, 97.73%, 97.73%, 45, 44, 43, 1, 1\n",
      "12480.jpg, 33.33%, 80.00%, 21.05%, 20, 5, 4, 1, 15\n",
      "12481.jpg, 61.54%, 100.00%, 44.44%, 27, 12, 12, 0, 15\n",
      "12483.jpg, 48.15%, 70.27%, 36.62%, 82, 37, 26, 11, 45\n",
      "12489.jpg, 50.00%, 33.33%, 100.00%, 18, 21, 7, 14, 0\n",
      "12490.jpg, 85.71%, 75.00%, 100.00%, 25, 28, 21, 7, 0\n",
      "12492.jpg, 44.44%, 28.57%, 100.00%, 10, 14, 4, 10, 0\n",
      "12495.jpg, 89.80%, 81.48%, 100.00%, 26, 27, 22, 5, 0\n",
      "12497.jpg, 76.47%, 76.47%, 76.47%, 42, 34, 26, 8, 8\n",
      "12500.jpg, 21.43%, 100.00%, 12.00%, 50, 6, 6, 0, 44\n",
      "12503.jpg, 91.30%, 87.50%, 95.45%, 25, 24, 21, 3, 1\n",
      "12505.jpg, 75.56%, 60.71%, 100.00%, 26, 28, 17, 11, 0\n",
      "12507.jpg, 36.36%, 100.00%, 22.22%, 18, 4, 4, 0, 14\n",
      "71.62%, 69.25%, 63.05%, 827, 593, 424, 169, 274, 5, 6, 1, 5\n"
     ]
    }
   ],
   "source": [
    "DEBUGGING = False\n",
    "\n",
    "SENSITIVITY = 0\n",
    "MIN_DIST_LIST = [5]\n",
    "UPPERTHRESH = 100\n",
    "ACCUMULATOR_LIST = [6]\n",
    "MIN_RADIUS_LIST = [1]\n",
    "MAX_RADIUS_LIST = [5]\n",
    "\n",
    "# Iterate through all possible combinations of parameters\n",
    "\n",
    "import itertools\n",
    "for params in itertools.product(MIN_DIST_LIST, ACCUMULATOR_LIST, MIN_RADIUS_LIST, MAX_RADIUS_LIST):\n",
    "                                \n",
    "    # For each set of parameters, detect colonies in all images\n",
    "    min_dist, accumulator, min_radius, max_radius = params\n",
    "    \n",
    "    if max_radius < min_radius:\n",
    "        continue\n",
    "    \n",
    "    total_actual_count = 0\n",
    "    total_counted = 0\n",
    "    total_tp = 0\n",
    "    total_fp = 0\n",
    "    total_fn = 0\n",
    "    \n",
    "    total_precision = 0\n",
    "    total_recall = 0\n",
    "    total_f1 = 0\n",
    "    \n",
    "    for file in cleaned_data:\n",
    "        file_name = os.path.splitext(os.path.basename(file))[0] + \".jpg\"\n",
    "        actual_count, counted, tp, fp, fn = countColonies(folder + \"/\" + file_name, file_name, SENSITIVITY, min_dist, UPPERTHRESH, accumulator, min_radius, max_radius)\n",
    "        \n",
    "        try:\n",
    "            total_precision += tp/(tp+fp)\n",
    "        except:\n",
    "            total_precision += 0\n",
    "        \n",
    "        try:\n",
    "            total_recall += tp/(tp+fn)\n",
    "        except:\n",
    "            total_recall += 0\n",
    "            \n",
    "        try:\n",
    "            total_f1 += (2*(tp/(tp+fp))*(tp/(tp+fn)))/((tp/(tp+fp))+(tp/(tp+fn)))\n",
    "        except:\n",
    "            total_f1 += 0\n",
    "        \n",
    "        total_actual_count += actual_count\n",
    "        total_counted += counted\n",
    "        total_tp += tp\n",
    "        total_fp += fp\n",
    "        total_fn += fn\n",
    "    \n",
    "    try:\n",
    "        # prec_int = total_tp/(total_tp+total_fp)\n",
    "        prec_int = total_precision/30\n",
    "        precision = \"{:.2%}\".format(prec_int)\n",
    "    except:\n",
    "        precision = \"0.00%\"\n",
    "    \n",
    "    try:\n",
    "        # rec_int = total_tp/(total_tp+total_fn)\n",
    "        rec_int = total_recall/30\n",
    "        recall = \"{:.2%}\".format(rec_int)\n",
    "    except:\n",
    "        recall = \"0.00%\"\n",
    "    \n",
    "    try:\n",
    "        # f1 = \"{:.2%}\".format((2*prec_int*rec_int)/(prec_int+rec_int))\n",
    "        f1 = \"{:.2%}\".format(total_f1/30)\n",
    "    except:\n",
    "        f1 = \"0.00%\"\n",
    "        \n",
    "    # print(f\"P: {precision} R: {recall} F: {f1}, ACTUAL: {str(total_actual_count)}, COUNT: {str(total_counted)}, TP: {str(total_tp)} FP: {str(total_fp)} FN: {str(total_fn)}, MN_DIST: {min_dist} ACCUM: {accumulator} MN_RAD: {min_radius} MX_RAD: {max_radius}\")\n",
    "    print(f\"{precision}, {recall}, {f1}, {str(total_actual_count)}, {str(total_counted)}, {str(total_tp)}, {str(total_fp)}, {str(total_fn)}, {min_dist}, {accumulator}, {min_radius}, {max_radius}\")   "
   ]
  },
  {
   "cell_type": "code",
   "execution_count": null,
   "id": "b878cc54",
   "metadata": {},
   "outputs": [],
   "source": []
  }
 ],
 "metadata": {
  "kernelspec": {
   "display_name": "Python 3 (ipykernel)",
   "language": "python",
   "name": "python3"
  },
  "language_info": {
   "codemirror_mode": {
    "name": "ipython",
    "version": 3
   },
   "file_extension": ".py",
   "mimetype": "text/x-python",
   "name": "python",
   "nbconvert_exporter": "python",
   "pygments_lexer": "ipython3",
   "version": "3.9.7"
  }
 },
 "nbformat": 4,
 "nbformat_minor": 5
}
